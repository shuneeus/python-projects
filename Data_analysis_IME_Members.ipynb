{
 "cells": [
  {
   "cell_type": "markdown",
   "metadata": {},
   "source": [
    "# IME Members \n",
    "\n",
    "In this project, I helped the [Independent Electronic Music Union from Chile](https://imechile.org/) to consolidate a data set with their member's data and calculate some basic statistics. They had the information spread across three different spreadsheets, so I merged these datasets by their members' shared ID (emails). \n",
    "\n",
    "In the second step, I performed a quick statistical analysis of their members' composition, disaggregated by the three variables with fewer missing values. This analysis can orientate further actions such as campaigns' geographic scope to attract new members and balance gender gaps.\n"
   ]
  },
  {
   "cell_type": "code",
   "execution_count": 1,
   "metadata": {},
   "outputs": [],
   "source": [
    "import pandas as pd\n",
    "\n",
    "members_2020_dir = \"/home/sebastian/Desktop/IME/members_data_bases/Socixs_IME_diciembre2020-MAX.xlsx\"\n",
    "new_members_dir = \"/home/sebastian/Desktop/IME/members_data_bases/Socixs_nuevxs_ingreso2020.xlsx\"\n",
    "survey_2020_dir = \"/home/sebastian/Desktop/IME/members_data_bases/Encuesta_socixs_junio2020.xlsx\"\n",
    "\n",
    "members_2020 = pd.read_excel(members_2020_dir, index_col =0) ## all members after dec 2020\n",
    "new_members = pd.read_excel(new_members_dir, index_col = 1) ## new members enterig 2020\n",
    "survey_2020  = pd.read_excel(new_members_dir, index_col = 1) ## survey to old members (pre 2020)"
   ]
  },
  {
   "cell_type": "code",
   "execution_count": 2,
   "metadata": {},
   "outputs": [],
   "source": [
    "import janitor\n",
    "\n",
    "members_2020 = members_2020.limit_column_characters(22).clean_names(remove_special = True, case_type = \"lower\", strip_accents = True, \n",
    "                                                    preserve_original_columns = False)\n",
    "\n",
    "\n",
    "survey_2020=survey_2020.limit_column_characters(22).clean_names(remove_special = True, case_type = \"lower\", strip_accents = True, \n",
    "                                                    preserve_original_columns = False)\n",
    "\n",
    "new_members=survey_2020.limit_column_characters(22).clean_names(remove_special = True, case_type = \"lower\", strip_accents = True, \n",
    "                                                    preserve_original_columns = False)"
   ]
  },
  {
   "cell_type": "code",
   "execution_count": 3,
   "metadata": {},
   "outputs": [
    {
     "name": "stdout",
     "output_type": "stream",
     "text": [
      "Index(['nombre', 'sexo', 'ci', 'telefono', 'mail', 'domicilio', 'ciudad',\n",
      "       'proyecto_s_', 'sello_colectivo_otro', 'redes', 'ano_ingreso'],\n",
      "      dtype='object')\n",
      "(133, 11)\n",
      "Index(['email_address', 'rut', 'genero', 'fecha_de_nacimiento', 'domicilio',\n",
      "       'ciudad', 'pais', 'numero_de_celular', 'describe_tus_motivacio',\n",
      "       'quienes_son_tus_spons', 'categoria_principal_de',\n",
      "       'ocupaciones_categoria_', 'ocupaciones_categoria__1',\n",
      "       'proyecto_principal_al', 'proyectos_secundarios_', 'sello_colectivo_ot',\n",
      "       'links_principales_ej_', 'generos_principales_p', 'formato_de_show_'],\n",
      "      dtype='object')\n",
      "(51, 19)\n",
      "Index(['email_address', 'rut', 'genero', 'fecha_de_nacimiento', 'domicilio',\n",
      "       'ciudad', 'pais', 'numero_de_celular', 'describe_tus_motivacio',\n",
      "       'quienes_son_tus_spons', 'categoria_principal_de',\n",
      "       'ocupaciones_categoria_', 'ocupaciones_categoria_1',\n",
      "       'proyecto_principal_al', 'proyectos_secundarios_', 'sello_colectivo_ot',\n",
      "       'links_principales_ej_', 'generos_principales_p', 'formato_de_show_'],\n",
      "      dtype='object')\n",
      "(51, 19)\n"
     ]
    }
   ],
   "source": [
    "print(members_2020.columns)\n",
    "print(members_2020.shape)\n",
    "\n",
    "print(survey_2020.columns)\n",
    "print(survey_2020.shape)\n",
    "\n",
    "print(new_members.columns)\n",
    "print(new_members.shape)"
   ]
  },
  {
   "cell_type": "code",
   "execution_count": 4,
   "metadata": {},
   "outputs": [],
   "source": [
    "survey_2020 = survey_2020.rename(columns={\"email_address\": \"mail\"})\n",
    "\n",
    "new_members = new_members.rename(columns={\"email_address\": \"mail\"})\n"
   ]
  },
  {
   "cell_type": "markdown",
   "metadata": {},
   "source": [
    "# joining the 3 datasets by 'email'\n",
    "\n",
    "Email is the ID variable shared by the three databases. "
   ]
  },
  {
   "cell_type": "code",
   "execution_count": 5,
   "metadata": {},
   "outputs": [],
   "source": [
    "members_2020[\"mail\"]=members_2020[\"mail\"].str.strip().str.lower()\n",
    "new_members[\"mail\"]=new_members[\"mail\"].str.strip().str.lower()\n",
    "survey_2020[\"mail\"]=survey_2020[\"mail\"].str.strip().str.lower()"
   ]
  },
  {
   "cell_type": "code",
   "execution_count": 6,
   "metadata": {
    "scrolled": false
   },
   "outputs": [
    {
     "name": "stdout",
     "output_type": "stream",
     "text": [
      "Index(['nombre', 'sexo', 'ci', 'telefono', 'mail', 'domicilio', 'ciudad',\n",
      "       'proyecto_s_', 'sello_colectivo_otro', 'redes', 'ano_ingreso', 'rut',\n",
      "       'genero', 'fecha_de_nacimiento', 'domicilio_y', 'ciudad_y', 'pais',\n",
      "       'numero_de_celular', 'describe_tus_motivacio', 'quienes_son_tus_spons',\n",
      "       'categoria_principal_de', 'ocupaciones_categoria_',\n",
      "       'ocupaciones_categoria_1', 'proyecto_principal_al',\n",
      "       'proyectos_secundarios_', 'sello_colectivo_ot', 'links_principales_ej_',\n",
      "       'generos_principales_p', 'formato_de_show_'],\n",
      "      dtype='object')\n"
     ]
    }
   ],
   "source": [
    "merge1 = members_2020.merge(new_members, how = 'left', left_on='mail', right_on='mail', suffixes=('', '_y'))\n",
    "\n",
    "print(merge1.columns)\n",
    "\n"
   ]
  },
  {
   "cell_type": "code",
   "execution_count": 7,
   "metadata": {
    "scrolled": true
   },
   "outputs": [
    {
     "name": "stdout",
     "output_type": "stream",
     "text": [
      "Index(['nombre', 'sexo', 'ci', 'telefono', 'mail', 'domicilio_x', 'ciudad_x',\n",
      "       'proyecto_s_', 'sello_colectivo_otro', 'redes', 'ano_ingreso', 'rut_x',\n",
      "       'genero_x', 'fecha_de_nacimiento_x', 'pais_x', 'numero_de_celular_x',\n",
      "       'describe_tus_motivacio_x', 'quienes_son_tus_spons_x',\n",
      "       'categoria_principal_de_x', 'ocupaciones_categoria__x',\n",
      "       'ocupaciones_categoria_1', 'proyecto_principal_al_x',\n",
      "       'proyectos_secundarios__x', 'sello_colectivo_ot_x',\n",
      "       'links_principales_ej__x', 'generos_principales_p_x',\n",
      "       'formato_de_show__x', 'ocupaciones_categoria__1'],\n",
      "      dtype='object')\n",
      "(139, 28)\n"
     ]
    }
   ],
   "source": [
    "merge2 = merge1.merge(survey_2020, how = 'left', left_on='mail', right_on='mail')\n",
    "\n",
    "merge2.drop(merge2.filter(regex='_y').columns.tolist(),axis=1, inplace=True)\n",
    "\n",
    "#pd.DataFrame(merge2.columns)\n",
    "\n",
    "#merge2 = merge2.set_index(\"proyecto(s)\")\n",
    "\n",
    "print(merge2.columns)\n",
    "print(merge2.shape)"
   ]
  },
  {
   "cell_type": "code",
   "execution_count": 8,
   "metadata": {},
   "outputs": [],
   "source": [
    "merge2.columns=merge2.columns.str.replace('_x', '') \n",
    "merge2.columns=merge2.columns.str.replace('_1', '') \n",
    "merge2=merge2.drop_duplicates(subset=['ci']).remove_columns(\"rut\")"
   ]
  },
  {
   "cell_type": "code",
   "execution_count": 9,
   "metadata": {},
   "outputs": [
    {
     "name": "stdout",
     "output_type": "stream",
     "text": [
      "Index(['nombre', 'sexo', 'ci', 'telefono', 'mail', 'domicilio', 'ciudad',\n",
      "       'proyecto_s_', 'sello_colectivo_otro', 'redes', 'ano_ingreso', 'genero',\n",
      "       'fecha_de_nacimiento', 'pais', 'numero_de_celular',\n",
      "       'describe_tus_motivacio', 'quienes_son_tus_spons',\n",
      "       'categoria_principal_de', 'ocupaciones_categoria_',\n",
      "       'ocupaciones_categoria', 'proyecto_principal_al',\n",
      "       'proyectos_secundarios_', 'sello_colectivo_ot', 'links_principales_ej_',\n",
      "       'generos_principales_p', 'formato_de_show_', 'ocupaciones_categoria_'],\n",
      "      dtype='object')\n"
     ]
    }
   ],
   "source": [
    "print(merge2.columns)"
   ]
  },
  {
   "cell_type": "markdown",
   "metadata": {},
   "source": [
    "### Final dataset "
   ]
  },
  {
   "cell_type": "code",
   "execution_count": 10,
   "metadata": {},
   "outputs": [],
   "source": [
    "merge2.to_excel('base_ime_final.xlsx', index = False)"
   ]
  },
  {
   "cell_type": "markdown",
   "metadata": {},
   "source": [
    "## Missing values \n",
    "\n",
    "First, lets visualize the n/a. The bars represent the number of missing values on each category. The most incomplete category is \"REDES\" (networks), that contains the information of social networks of each member. "
   ]
  },
  {
   "cell_type": "code",
   "execution_count": 11,
   "metadata": {},
   "outputs": [
    {
     "data": {
      "text/plain": [
       "<AxesSubplot:>"
      ]
     },
     "execution_count": 11,
     "metadata": {},
     "output_type": "execute_result"
    },
    {
     "data": {
      "image/png": "[encoded data removed]",
      "text/plain": [
       "<Figure size 432x288 with 1 Axes>"
      ]
     },
     "metadata": {
      "needs_background": "light"
     },
     "output_type": "display_data"
    }
   ],
   "source": [
    "merge2.isna().sum().plot(kind='barh')"
   ]
  },
  {
   "cell_type": "markdown",
   "metadata": {},
   "source": [
    "# Graphics and summary statistics \n",
    "\n",
    "## grouped by city, gender and year of sign up"
   ]
  },
  {
   "cell_type": "code",
   "execution_count": 12,
   "metadata": {},
   "outputs": [],
   "source": [
    "import matplotlib.pyplot as plt"
   ]
  },
  {
   "cell_type": "code",
   "execution_count": 13,
   "metadata": {
    "scrolled": true
   },
   "outputs": [],
   "source": [
    "merge2[\"ciudad\"] = merge2[\"ciudad\"].str.strip().str.lower().replace('santiago centro', 'santiago').replace('stgo', 'santiago')"
   ]
  },
  {
   "cell_type": "code",
   "execution_count": 15,
   "metadata": {},
   "outputs": [
    {
     "data": {
      "image/png": "[encoded data removed]",
      "text/plain": [
       "<Figure size 432x288 with 1 Axes>"
      ]
     },
     "metadata": {
      "needs_background": "light"
     },
     "output_type": "display_data"
    }
   ],
   "source": [
    "merge2 = merge2.rename(columns={\"ano_ingreso\": \"sign_up_year\"})\n",
    "merge2 = merge2.rename(columns={\"ciudad\": \"city\"})\n",
    "merge2 = merge2.rename(columns={\"sexo\": \"gender\"})\n",
    "\n",
    "\n",
    "\n",
    "merge2.groupby(['city','sign_up_year']).size().unstack().plot(kind='barh',stacked=True)\n",
    "plt.title(\"IME members, grouped by city and year\")\n",
    "plt.xlabel(\"Number\")\n",
    "plt.ylabel(\"City\")\n",
    "plt.show()"
   ]
  },
  {
   "cell_type": "code",
   "execution_count": 16,
   "metadata": {},
   "outputs": [],
   "source": [
    "import sidetable"
   ]
  },
  {
   "cell_type": "code",
   "execution_count": 17,
   "metadata": {
    "scrolled": true
   },
   "outputs": [
    {
     "data": {
      "text/html": [
       "<style  type=\"text/css\" >\n",
       "</style><table id=\"T_06f5fa8a_6c75_11eb_ab5e_d7196e09492e\" ><thead>    <tr>        <th class=\"blank level0\" ></th>        <th class=\"col_heading level0 col0\" >sign_up_year</th>        <th class=\"col_heading level0 col1\" >city</th>        <th class=\"col_heading level0 col2\" >count</th>        <th class=\"col_heading level0 col3\" >percent</th>        <th class=\"col_heading level0 col4\" >cumulative_count</th>        <th class=\"col_heading level0 col5\" >cumulative_percent</th>    </tr></thead><tbody>\n",
       "                <tr>\n",
       "                        <th id=\"T_06f5fa8a_6c75_11eb_ab5e_d7196e09492elevel0_row0\" class=\"row_heading level0 row0\" >0</th>\n",
       "                        <td id=\"T_06f5fa8a_6c75_11eb_ab5e_d7196e09492erow0_col0\" class=\"data row0 col0\" >2019</td>\n",
       "                        <td id=\"T_06f5fa8a_6c75_11eb_ab5e_d7196e09492erow0_col1\" class=\"data row0 col1\" >santiago</td>\n",
       "                        <td id=\"T_06f5fa8a_6c75_11eb_ab5e_d7196e09492erow0_col2\" class=\"data row0 col2\" >86</td>\n",
       "                        <td id=\"T_06f5fa8a_6c75_11eb_ab5e_d7196e09492erow0_col3\" class=\"data row0 col3\" >80.37%</td>\n",
       "                        <td id=\"T_06f5fa8a_6c75_11eb_ab5e_d7196e09492erow0_col4\" class=\"data row0 col4\" >86</td>\n",
       "                        <td id=\"T_06f5fa8a_6c75_11eb_ab5e_d7196e09492erow0_col5\" class=\"data row0 col5\" >80.37%</td>\n",
       "            </tr>\n",
       "            <tr>\n",
       "                        <th id=\"T_06f5fa8a_6c75_11eb_ab5e_d7196e09492elevel0_row1\" class=\"row_heading level0 row1\" >1</th>\n",
       "                        <td id=\"T_06f5fa8a_6c75_11eb_ab5e_d7196e09492erow1_col0\" class=\"data row1 col0\" >2019</td>\n",
       "                        <td id=\"T_06f5fa8a_6c75_11eb_ab5e_d7196e09492erow1_col1\" class=\"data row1 col1\" >concepción</td>\n",
       "                        <td id=\"T_06f5fa8a_6c75_11eb_ab5e_d7196e09492erow1_col2\" class=\"data row1 col2\" >4</td>\n",
       "                        <td id=\"T_06f5fa8a_6c75_11eb_ab5e_d7196e09492erow1_col3\" class=\"data row1 col3\" >3.74%</td>\n",
       "                        <td id=\"T_06f5fa8a_6c75_11eb_ab5e_d7196e09492erow1_col4\" class=\"data row1 col4\" >90</td>\n",
       "                        <td id=\"T_06f5fa8a_6c75_11eb_ab5e_d7196e09492erow1_col5\" class=\"data row1 col5\" >84.11%</td>\n",
       "            </tr>\n",
       "            <tr>\n",
       "                        <th id=\"T_06f5fa8a_6c75_11eb_ab5e_d7196e09492elevel0_row2\" class=\"row_heading level0 row2\" >2</th>\n",
       "                        <td id=\"T_06f5fa8a_6c75_11eb_ab5e_d7196e09492erow2_col0\" class=\"data row2 col0\" >2019</td>\n",
       "                        <td id=\"T_06f5fa8a_6c75_11eb_ab5e_d7196e09492erow2_col1\" class=\"data row2 col1\" >valdivia</td>\n",
       "                        <td id=\"T_06f5fa8a_6c75_11eb_ab5e_d7196e09492erow2_col2\" class=\"data row2 col2\" >3</td>\n",
       "                        <td id=\"T_06f5fa8a_6c75_11eb_ab5e_d7196e09492erow2_col3\" class=\"data row2 col3\" >2.80%</td>\n",
       "                        <td id=\"T_06f5fa8a_6c75_11eb_ab5e_d7196e09492erow2_col4\" class=\"data row2 col4\" >93</td>\n",
       "                        <td id=\"T_06f5fa8a_6c75_11eb_ab5e_d7196e09492erow2_col5\" class=\"data row2 col5\" >86.92%</td>\n",
       "            </tr>\n",
       "            <tr>\n",
       "                        <th id=\"T_06f5fa8a_6c75_11eb_ab5e_d7196e09492elevel0_row3\" class=\"row_heading level0 row3\" >3</th>\n",
       "                        <td id=\"T_06f5fa8a_6c75_11eb_ab5e_d7196e09492erow3_col0\" class=\"data row3 col0\" >2019</td>\n",
       "                        <td id=\"T_06f5fa8a_6c75_11eb_ab5e_d7196e09492erow3_col1\" class=\"data row3 col1\" >puerto montt</td>\n",
       "                        <td id=\"T_06f5fa8a_6c75_11eb_ab5e_d7196e09492erow3_col2\" class=\"data row3 col2\" >3</td>\n",
       "                        <td id=\"T_06f5fa8a_6c75_11eb_ab5e_d7196e09492erow3_col3\" class=\"data row3 col3\" >2.80%</td>\n",
       "                        <td id=\"T_06f5fa8a_6c75_11eb_ab5e_d7196e09492erow3_col4\" class=\"data row3 col4\" >96</td>\n",
       "                        <td id=\"T_06f5fa8a_6c75_11eb_ab5e_d7196e09492erow3_col5\" class=\"data row3 col5\" >89.72%</td>\n",
       "            </tr>\n",
       "            <tr>\n",
       "                        <th id=\"T_06f5fa8a_6c75_11eb_ab5e_d7196e09492elevel0_row4\" class=\"row_heading level0 row4\" >4</th>\n",
       "                        <td id=\"T_06f5fa8a_6c75_11eb_ab5e_d7196e09492erow4_col0\" class=\"data row4 col0\" >2019</td>\n",
       "                        <td id=\"T_06f5fa8a_6c75_11eb_ab5e_d7196e09492erow4_col1\" class=\"data row4 col1\" >valparaíso</td>\n",
       "                        <td id=\"T_06f5fa8a_6c75_11eb_ab5e_d7196e09492erow4_col2\" class=\"data row4 col2\" >2</td>\n",
       "                        <td id=\"T_06f5fa8a_6c75_11eb_ab5e_d7196e09492erow4_col3\" class=\"data row4 col3\" >1.87%</td>\n",
       "                        <td id=\"T_06f5fa8a_6c75_11eb_ab5e_d7196e09492erow4_col4\" class=\"data row4 col4\" >98</td>\n",
       "                        <td id=\"T_06f5fa8a_6c75_11eb_ab5e_d7196e09492erow4_col5\" class=\"data row4 col5\" >91.59%</td>\n",
       "            </tr>\n",
       "            <tr>\n",
       "                        <th id=\"T_06f5fa8a_6c75_11eb_ab5e_d7196e09492elevel0_row5\" class=\"row_heading level0 row5\" >5</th>\n",
       "                        <td id=\"T_06f5fa8a_6c75_11eb_ab5e_d7196e09492erow5_col0\" class=\"data row5 col0\" >2019</td>\n",
       "                        <td id=\"T_06f5fa8a_6c75_11eb_ab5e_d7196e09492erow5_col1\" class=\"data row5 col1\" >punta arenas</td>\n",
       "                        <td id=\"T_06f5fa8a_6c75_11eb_ab5e_d7196e09492erow5_col2\" class=\"data row5 col2\" >2</td>\n",
       "                        <td id=\"T_06f5fa8a_6c75_11eb_ab5e_d7196e09492erow5_col3\" class=\"data row5 col3\" >1.87%</td>\n",
       "                        <td id=\"T_06f5fa8a_6c75_11eb_ab5e_d7196e09492erow5_col4\" class=\"data row5 col4\" >100</td>\n",
       "                        <td id=\"T_06f5fa8a_6c75_11eb_ab5e_d7196e09492erow5_col5\" class=\"data row5 col5\" >93.46%</td>\n",
       "            </tr>\n",
       "            <tr>\n",
       "                        <th id=\"T_06f5fa8a_6c75_11eb_ab5e_d7196e09492elevel0_row6\" class=\"row_heading level0 row6\" >6</th>\n",
       "                        <td id=\"T_06f5fa8a_6c75_11eb_ab5e_d7196e09492erow6_col0\" class=\"data row6 col0\" >2019</td>\n",
       "                        <td id=\"T_06f5fa8a_6c75_11eb_ab5e_d7196e09492erow6_col1\" class=\"data row6 col1\" >viña del mar</td>\n",
       "                        <td id=\"T_06f5fa8a_6c75_11eb_ab5e_d7196e09492erow6_col2\" class=\"data row6 col2\" >1</td>\n",
       "                        <td id=\"T_06f5fa8a_6c75_11eb_ab5e_d7196e09492erow6_col3\" class=\"data row6 col3\" >0.93%</td>\n",
       "                        <td id=\"T_06f5fa8a_6c75_11eb_ab5e_d7196e09492erow6_col4\" class=\"data row6 col4\" >101</td>\n",
       "                        <td id=\"T_06f5fa8a_6c75_11eb_ab5e_d7196e09492erow6_col5\" class=\"data row6 col5\" >94.39%</td>\n",
       "            </tr>\n",
       "            <tr>\n",
       "                        <th id=\"T_06f5fa8a_6c75_11eb_ab5e_d7196e09492elevel0_row7\" class=\"row_heading level0 row7\" >7</th>\n",
       "                        <td id=\"T_06f5fa8a_6c75_11eb_ab5e_d7196e09492erow7_col0\" class=\"data row7 col0\" >2019</td>\n",
       "                        <td id=\"T_06f5fa8a_6c75_11eb_ab5e_d7196e09492erow7_col1\" class=\"data row7 col1\" >temuco</td>\n",
       "                        <td id=\"T_06f5fa8a_6c75_11eb_ab5e_d7196e09492erow7_col2\" class=\"data row7 col2\" >1</td>\n",
       "                        <td id=\"T_06f5fa8a_6c75_11eb_ab5e_d7196e09492erow7_col3\" class=\"data row7 col3\" >0.93%</td>\n",
       "                        <td id=\"T_06f5fa8a_6c75_11eb_ab5e_d7196e09492erow7_col4\" class=\"data row7 col4\" >102</td>\n",
       "                        <td id=\"T_06f5fa8a_6c75_11eb_ab5e_d7196e09492erow7_col5\" class=\"data row7 col5\" >95.33%</td>\n",
       "            </tr>\n",
       "            <tr>\n",
       "                        <th id=\"T_06f5fa8a_6c75_11eb_ab5e_d7196e09492elevel0_row8\" class=\"row_heading level0 row8\" >8</th>\n",
       "                        <td id=\"T_06f5fa8a_6c75_11eb_ab5e_d7196e09492erow8_col0\" class=\"data row8 col0\" >2019</td>\n",
       "                        <td id=\"T_06f5fa8a_6c75_11eb_ab5e_d7196e09492erow8_col1\" class=\"data row8 col1\" >rio de janeiro</td>\n",
       "                        <td id=\"T_06f5fa8a_6c75_11eb_ab5e_d7196e09492erow8_col2\" class=\"data row8 col2\" >1</td>\n",
       "                        <td id=\"T_06f5fa8a_6c75_11eb_ab5e_d7196e09492erow8_col3\" class=\"data row8 col3\" >0.93%</td>\n",
       "                        <td id=\"T_06f5fa8a_6c75_11eb_ab5e_d7196e09492erow8_col4\" class=\"data row8 col4\" >103</td>\n",
       "                        <td id=\"T_06f5fa8a_6c75_11eb_ab5e_d7196e09492erow8_col5\" class=\"data row8 col5\" >96.26%</td>\n",
       "            </tr>\n",
       "            <tr>\n",
       "                        <th id=\"T_06f5fa8a_6c75_11eb_ab5e_d7196e09492elevel0_row9\" class=\"row_heading level0 row9\" >9</th>\n",
       "                        <td id=\"T_06f5fa8a_6c75_11eb_ab5e_d7196e09492erow9_col0\" class=\"data row9 col0\" >2019</td>\n",
       "                        <td id=\"T_06f5fa8a_6c75_11eb_ab5e_d7196e09492erow9_col1\" class=\"data row9 col1\" >pichilemu</td>\n",
       "                        <td id=\"T_06f5fa8a_6c75_11eb_ab5e_d7196e09492erow9_col2\" class=\"data row9 col2\" >1</td>\n",
       "                        <td id=\"T_06f5fa8a_6c75_11eb_ab5e_d7196e09492erow9_col3\" class=\"data row9 col3\" >0.93%</td>\n",
       "                        <td id=\"T_06f5fa8a_6c75_11eb_ab5e_d7196e09492erow9_col4\" class=\"data row9 col4\" >104</td>\n",
       "                        <td id=\"T_06f5fa8a_6c75_11eb_ab5e_d7196e09492erow9_col5\" class=\"data row9 col5\" >97.20%</td>\n",
       "            </tr>\n",
       "            <tr>\n",
       "                        <th id=\"T_06f5fa8a_6c75_11eb_ab5e_d7196e09492elevel0_row10\" class=\"row_heading level0 row10\" >10</th>\n",
       "                        <td id=\"T_06f5fa8a_6c75_11eb_ab5e_d7196e09492erow10_col0\" class=\"data row10 col0\" >2019</td>\n",
       "                        <td id=\"T_06f5fa8a_6c75_11eb_ab5e_d7196e09492erow10_col1\" class=\"data row10 col1\" >montreal</td>\n",
       "                        <td id=\"T_06f5fa8a_6c75_11eb_ab5e_d7196e09492erow10_col2\" class=\"data row10 col2\" >1</td>\n",
       "                        <td id=\"T_06f5fa8a_6c75_11eb_ab5e_d7196e09492erow10_col3\" class=\"data row10 col3\" >0.93%</td>\n",
       "                        <td id=\"T_06f5fa8a_6c75_11eb_ab5e_d7196e09492erow10_col4\" class=\"data row10 col4\" >105</td>\n",
       "                        <td id=\"T_06f5fa8a_6c75_11eb_ab5e_d7196e09492erow10_col5\" class=\"data row10 col5\" >98.13%</td>\n",
       "            </tr>\n",
       "            <tr>\n",
       "                        <th id=\"T_06f5fa8a_6c75_11eb_ab5e_d7196e09492elevel0_row11\" class=\"row_heading level0 row11\" >11</th>\n",
       "                        <td id=\"T_06f5fa8a_6c75_11eb_ab5e_d7196e09492erow11_col0\" class=\"data row11 col0\" >2019</td>\n",
       "                        <td id=\"T_06f5fa8a_6c75_11eb_ab5e_d7196e09492erow11_col1\" class=\"data row11 col1\" >madrid</td>\n",
       "                        <td id=\"T_06f5fa8a_6c75_11eb_ab5e_d7196e09492erow11_col2\" class=\"data row11 col2\" >1</td>\n",
       "                        <td id=\"T_06f5fa8a_6c75_11eb_ab5e_d7196e09492erow11_col3\" class=\"data row11 col3\" >0.93%</td>\n",
       "                        <td id=\"T_06f5fa8a_6c75_11eb_ab5e_d7196e09492erow11_col4\" class=\"data row11 col4\" >106</td>\n",
       "                        <td id=\"T_06f5fa8a_6c75_11eb_ab5e_d7196e09492erow11_col5\" class=\"data row11 col5\" >99.07%</td>\n",
       "            </tr>\n",
       "            <tr>\n",
       "                        <th id=\"T_06f5fa8a_6c75_11eb_ab5e_d7196e09492elevel0_row12\" class=\"row_heading level0 row12\" >12</th>\n",
       "                        <td id=\"T_06f5fa8a_6c75_11eb_ab5e_d7196e09492erow12_col0\" class=\"data row12 col0\" >2019</td>\n",
       "                        <td id=\"T_06f5fa8a_6c75_11eb_ab5e_d7196e09492erow12_col1\" class=\"data row12 col1\" >barcelona y santiago</td>\n",
       "                        <td id=\"T_06f5fa8a_6c75_11eb_ab5e_d7196e09492erow12_col2\" class=\"data row12 col2\" >1</td>\n",
       "                        <td id=\"T_06f5fa8a_6c75_11eb_ab5e_d7196e09492erow12_col3\" class=\"data row12 col3\" >0.93%</td>\n",
       "                        <td id=\"T_06f5fa8a_6c75_11eb_ab5e_d7196e09492erow12_col4\" class=\"data row12 col4\" >107</td>\n",
       "                        <td id=\"T_06f5fa8a_6c75_11eb_ab5e_d7196e09492erow12_col5\" class=\"data row12 col5\" >100.00%</td>\n",
       "            </tr>\n",
       "    </tbody></table>"
      ],
      "text/plain": [
       "<pandas.io.formats.style.Styler at 0x7f1c450488b0>"
      ]
     },
     "execution_count": 17,
     "metadata": {},
     "output_type": "execute_result"
    }
   ],
   "source": [
    "merge2[merge2[\"sign_up_year\"]==2019].stb.freq(['sign_up_year', 'city'], style=True)"
   ]
  },
  {
   "cell_type": "code",
   "execution_count": 18,
   "metadata": {},
   "outputs": [
    {
     "data": {
      "text/html": [
       "<style  type=\"text/css\" >\n",
       "</style><table id=\"T_07fd3ace_6c75_11eb_ab5e_d7196e09492e\" ><thead>    <tr>        <th class=\"blank level0\" ></th>        <th class=\"col_heading level0 col0\" >sign_up_year</th>        <th class=\"col_heading level0 col1\" >city</th>        <th class=\"col_heading level0 col2\" >count</th>        <th class=\"col_heading level0 col3\" >percent</th>        <th class=\"col_heading level0 col4\" >cumulative_count</th>        <th class=\"col_heading level0 col5\" >cumulative_percent</th>    </tr></thead><tbody>\n",
       "                <tr>\n",
       "                        <th id=\"T_07fd3ace_6c75_11eb_ab5e_d7196e09492elevel0_row0\" class=\"row_heading level0 row0\" >0</th>\n",
       "                        <td id=\"T_07fd3ace_6c75_11eb_ab5e_d7196e09492erow0_col0\" class=\"data row0 col0\" >2020</td>\n",
       "                        <td id=\"T_07fd3ace_6c75_11eb_ab5e_d7196e09492erow0_col1\" class=\"data row0 col1\" >santiago</td>\n",
       "                        <td id=\"T_07fd3ace_6c75_11eb_ab5e_d7196e09492erow0_col2\" class=\"data row0 col2\" >12</td>\n",
       "                        <td id=\"T_07fd3ace_6c75_11eb_ab5e_d7196e09492erow0_col3\" class=\"data row0 col3\" >63.16%</td>\n",
       "                        <td id=\"T_07fd3ace_6c75_11eb_ab5e_d7196e09492erow0_col4\" class=\"data row0 col4\" >12</td>\n",
       "                        <td id=\"T_07fd3ace_6c75_11eb_ab5e_d7196e09492erow0_col5\" class=\"data row0 col5\" >63.16%</td>\n",
       "            </tr>\n",
       "            <tr>\n",
       "                        <th id=\"T_07fd3ace_6c75_11eb_ab5e_d7196e09492elevel0_row1\" class=\"row_heading level0 row1\" >1</th>\n",
       "                        <td id=\"T_07fd3ace_6c75_11eb_ab5e_d7196e09492erow1_col0\" class=\"data row1 col0\" >2020</td>\n",
       "                        <td id=\"T_07fd3ace_6c75_11eb_ab5e_d7196e09492erow1_col1\" class=\"data row1 col1\" >valdivia</td>\n",
       "                        <td id=\"T_07fd3ace_6c75_11eb_ab5e_d7196e09492erow1_col2\" class=\"data row1 col2\" >2</td>\n",
       "                        <td id=\"T_07fd3ace_6c75_11eb_ab5e_d7196e09492erow1_col3\" class=\"data row1 col3\" >10.53%</td>\n",
       "                        <td id=\"T_07fd3ace_6c75_11eb_ab5e_d7196e09492erow1_col4\" class=\"data row1 col4\" >14</td>\n",
       "                        <td id=\"T_07fd3ace_6c75_11eb_ab5e_d7196e09492erow1_col5\" class=\"data row1 col5\" >73.68%</td>\n",
       "            </tr>\n",
       "            <tr>\n",
       "                        <th id=\"T_07fd3ace_6c75_11eb_ab5e_d7196e09492elevel0_row2\" class=\"row_heading level0 row2\" >2</th>\n",
       "                        <td id=\"T_07fd3ace_6c75_11eb_ab5e_d7196e09492erow2_col0\" class=\"data row2 col0\" >2020</td>\n",
       "                        <td id=\"T_07fd3ace_6c75_11eb_ab5e_d7196e09492erow2_col1\" class=\"data row2 col1\" >londres</td>\n",
       "                        <td id=\"T_07fd3ace_6c75_11eb_ab5e_d7196e09492erow2_col2\" class=\"data row2 col2\" >2</td>\n",
       "                        <td id=\"T_07fd3ace_6c75_11eb_ab5e_d7196e09492erow2_col3\" class=\"data row2 col3\" >10.53%</td>\n",
       "                        <td id=\"T_07fd3ace_6c75_11eb_ab5e_d7196e09492erow2_col4\" class=\"data row2 col4\" >16</td>\n",
       "                        <td id=\"T_07fd3ace_6c75_11eb_ab5e_d7196e09492erow2_col5\" class=\"data row2 col5\" >84.21%</td>\n",
       "            </tr>\n",
       "            <tr>\n",
       "                        <th id=\"T_07fd3ace_6c75_11eb_ab5e_d7196e09492elevel0_row3\" class=\"row_heading level0 row3\" >3</th>\n",
       "                        <td id=\"T_07fd3ace_6c75_11eb_ab5e_d7196e09492erow3_col0\" class=\"data row3 col0\" >2020</td>\n",
       "                        <td id=\"T_07fd3ace_6c75_11eb_ab5e_d7196e09492erow3_col1\" class=\"data row3 col1\" >sant cugat, barcelona</td>\n",
       "                        <td id=\"T_07fd3ace_6c75_11eb_ab5e_d7196e09492erow3_col2\" class=\"data row3 col2\" >1</td>\n",
       "                        <td id=\"T_07fd3ace_6c75_11eb_ab5e_d7196e09492erow3_col3\" class=\"data row3 col3\" >5.26%</td>\n",
       "                        <td id=\"T_07fd3ace_6c75_11eb_ab5e_d7196e09492erow3_col4\" class=\"data row3 col4\" >17</td>\n",
       "                        <td id=\"T_07fd3ace_6c75_11eb_ab5e_d7196e09492erow3_col5\" class=\"data row3 col5\" >89.47%</td>\n",
       "            </tr>\n",
       "            <tr>\n",
       "                        <th id=\"T_07fd3ace_6c75_11eb_ab5e_d7196e09492elevel0_row4\" class=\"row_heading level0 row4\" >4</th>\n",
       "                        <td id=\"T_07fd3ace_6c75_11eb_ab5e_d7196e09492erow4_col0\" class=\"data row4 col0\" >2020</td>\n",
       "                        <td id=\"T_07fd3ace_6c75_11eb_ab5e_d7196e09492erow4_col1\" class=\"data row4 col1\" >puerto montt</td>\n",
       "                        <td id=\"T_07fd3ace_6c75_11eb_ab5e_d7196e09492erow4_col2\" class=\"data row4 col2\" >1</td>\n",
       "                        <td id=\"T_07fd3ace_6c75_11eb_ab5e_d7196e09492erow4_col3\" class=\"data row4 col3\" >5.26%</td>\n",
       "                        <td id=\"T_07fd3ace_6c75_11eb_ab5e_d7196e09492erow4_col4\" class=\"data row4 col4\" >18</td>\n",
       "                        <td id=\"T_07fd3ace_6c75_11eb_ab5e_d7196e09492erow4_col5\" class=\"data row4 col5\" >94.74%</td>\n",
       "            </tr>\n",
       "            <tr>\n",
       "                        <th id=\"T_07fd3ace_6c75_11eb_ab5e_d7196e09492elevel0_row5\" class=\"row_heading level0 row5\" >5</th>\n",
       "                        <td id=\"T_07fd3ace_6c75_11eb_ab5e_d7196e09492erow5_col0\" class=\"data row5 col0\" >2020</td>\n",
       "                        <td id=\"T_07fd3ace_6c75_11eb_ab5e_d7196e09492erow5_col1\" class=\"data row5 col1\" >osorno</td>\n",
       "                        <td id=\"T_07fd3ace_6c75_11eb_ab5e_d7196e09492erow5_col2\" class=\"data row5 col2\" >1</td>\n",
       "                        <td id=\"T_07fd3ace_6c75_11eb_ab5e_d7196e09492erow5_col3\" class=\"data row5 col3\" >5.26%</td>\n",
       "                        <td id=\"T_07fd3ace_6c75_11eb_ab5e_d7196e09492erow5_col4\" class=\"data row5 col4\" >19</td>\n",
       "                        <td id=\"T_07fd3ace_6c75_11eb_ab5e_d7196e09492erow5_col5\" class=\"data row5 col5\" >100.00%</td>\n",
       "            </tr>\n",
       "    </tbody></table>"
      ],
      "text/plain": [
       "<pandas.io.formats.style.Styler at 0x7f1c450d8fd0>"
      ]
     },
     "execution_count": 18,
     "metadata": {},
     "output_type": "execute_result"
    }
   ],
   "source": [
    "merge2[merge2[\"sign_up_year\"]==2020].stb.freq(['sign_up_year', 'city'], style=True)"
   ]
  },
  {
   "cell_type": "code",
   "execution_count": 20,
   "metadata": {},
   "outputs": [
    {
     "data": {
      "image/png": "[encoded data removed]",
      "text/plain": [
       "<Figure size 432x288 with 1 Axes>"
      ]
     },
     "metadata": {
      "needs_background": "light"
     },
     "output_type": "display_data"
    }
   ],
   "source": [
    "merge2.groupby(['gender','sign_up_year']).size().unstack().plot(kind='barh',stacked=True)\n",
    "plt.title(\"Members by year and gender\")\n",
    "plt.xlabel(\"Number\")\n",
    "plt.ylabel(\"Gender\")\n",
    "plt.show()"
   ]
  },
  {
   "cell_type": "code",
   "execution_count": 21,
   "metadata": {},
   "outputs": [
    {
     "data": {
      "text/html": [
       "<style  type=\"text/css\" >\n",
       "</style><table id=\"T_0fc1f3c6_6c75_11eb_ab5e_d7196e09492e\" ><thead>    <tr>        <th class=\"blank level0\" ></th>        <th class=\"col_heading level0 col0\" >sign_up_year</th>        <th class=\"col_heading level0 col1\" >gender</th>        <th class=\"col_heading level0 col2\" >count</th>        <th class=\"col_heading level0 col3\" >percent</th>        <th class=\"col_heading level0 col4\" >cumulative_count</th>        <th class=\"col_heading level0 col5\" >cumulative_percent</th>    </tr></thead><tbody>\n",
       "                <tr>\n",
       "                        <th id=\"T_0fc1f3c6_6c75_11eb_ab5e_d7196e09492elevel0_row0\" class=\"row_heading level0 row0\" >0</th>\n",
       "                        <td id=\"T_0fc1f3c6_6c75_11eb_ab5e_d7196e09492erow0_col0\" class=\"data row0 col0\" >2019</td>\n",
       "                        <td id=\"T_0fc1f3c6_6c75_11eb_ab5e_d7196e09492erow0_col1\" class=\"data row0 col1\" >M</td>\n",
       "                        <td id=\"T_0fc1f3c6_6c75_11eb_ab5e_d7196e09492erow0_col2\" class=\"data row0 col2\" >76</td>\n",
       "                        <td id=\"T_0fc1f3c6_6c75_11eb_ab5e_d7196e09492erow0_col3\" class=\"data row0 col3\" >71.03%</td>\n",
       "                        <td id=\"T_0fc1f3c6_6c75_11eb_ab5e_d7196e09492erow0_col4\" class=\"data row0 col4\" >76</td>\n",
       "                        <td id=\"T_0fc1f3c6_6c75_11eb_ab5e_d7196e09492erow0_col5\" class=\"data row0 col5\" >71.03%</td>\n",
       "            </tr>\n",
       "            <tr>\n",
       "                        <th id=\"T_0fc1f3c6_6c75_11eb_ab5e_d7196e09492elevel0_row1\" class=\"row_heading level0 row1\" >1</th>\n",
       "                        <td id=\"T_0fc1f3c6_6c75_11eb_ab5e_d7196e09492erow1_col0\" class=\"data row1 col0\" >2019</td>\n",
       "                        <td id=\"T_0fc1f3c6_6c75_11eb_ab5e_d7196e09492erow1_col1\" class=\"data row1 col1\" >F</td>\n",
       "                        <td id=\"T_0fc1f3c6_6c75_11eb_ab5e_d7196e09492erow1_col2\" class=\"data row1 col2\" >27</td>\n",
       "                        <td id=\"T_0fc1f3c6_6c75_11eb_ab5e_d7196e09492erow1_col3\" class=\"data row1 col3\" >25.23%</td>\n",
       "                        <td id=\"T_0fc1f3c6_6c75_11eb_ab5e_d7196e09492erow1_col4\" class=\"data row1 col4\" >103</td>\n",
       "                        <td id=\"T_0fc1f3c6_6c75_11eb_ab5e_d7196e09492erow1_col5\" class=\"data row1 col5\" >96.26%</td>\n",
       "            </tr>\n",
       "            <tr>\n",
       "                        <th id=\"T_0fc1f3c6_6c75_11eb_ab5e_d7196e09492elevel0_row2\" class=\"row_heading level0 row2\" >2</th>\n",
       "                        <td id=\"T_0fc1f3c6_6c75_11eb_ab5e_d7196e09492erow2_col0\" class=\"data row2 col0\" >2019</td>\n",
       "                        <td id=\"T_0fc1f3c6_6c75_11eb_ab5e_d7196e09492erow2_col1\" class=\"data row2 col1\" >NB</td>\n",
       "                        <td id=\"T_0fc1f3c6_6c75_11eb_ab5e_d7196e09492erow2_col2\" class=\"data row2 col2\" >4</td>\n",
       "                        <td id=\"T_0fc1f3c6_6c75_11eb_ab5e_d7196e09492erow2_col3\" class=\"data row2 col3\" >3.74%</td>\n",
       "                        <td id=\"T_0fc1f3c6_6c75_11eb_ab5e_d7196e09492erow2_col4\" class=\"data row2 col4\" >107</td>\n",
       "                        <td id=\"T_0fc1f3c6_6c75_11eb_ab5e_d7196e09492erow2_col5\" class=\"data row2 col5\" >100.00%</td>\n",
       "            </tr>\n",
       "    </tbody></table>"
      ],
      "text/plain": [
       "<pandas.io.formats.style.Styler at 0x7f1c44a83490>"
      ]
     },
     "execution_count": 21,
     "metadata": {},
     "output_type": "execute_result"
    }
   ],
   "source": [
    "merge2[merge2[\"sign_up_year\"]==2019].stb.freq(['sign_up_year', 'gender'],  style=True)"
   ]
  },
  {
   "cell_type": "code",
   "execution_count": 22,
   "metadata": {},
   "outputs": [
    {
     "data": {
      "text/html": [
       "<style  type=\"text/css\" >\n",
       "</style><table id=\"T_10eb7830_6c75_11eb_ab5e_d7196e09492e\" ><thead>    <tr>        <th class=\"blank level0\" ></th>        <th class=\"col_heading level0 col0\" >sign_up_year</th>        <th class=\"col_heading level0 col1\" >gender</th>        <th class=\"col_heading level0 col2\" >count</th>        <th class=\"col_heading level0 col3\" >percent</th>        <th class=\"col_heading level0 col4\" >cumulative_count</th>        <th class=\"col_heading level0 col5\" >cumulative_percent</th>    </tr></thead><tbody>\n",
       "                <tr>\n",
       "                        <th id=\"T_10eb7830_6c75_11eb_ab5e_d7196e09492elevel0_row0\" class=\"row_heading level0 row0\" >0</th>\n",
       "                        <td id=\"T_10eb7830_6c75_11eb_ab5e_d7196e09492erow0_col0\" class=\"data row0 col0\" >2020</td>\n",
       "                        <td id=\"T_10eb7830_6c75_11eb_ab5e_d7196e09492erow0_col1\" class=\"data row0 col1\" >M</td>\n",
       "                        <td id=\"T_10eb7830_6c75_11eb_ab5e_d7196e09492erow0_col2\" class=\"data row0 col2\" >11</td>\n",
       "                        <td id=\"T_10eb7830_6c75_11eb_ab5e_d7196e09492erow0_col3\" class=\"data row0 col3\" >57.89%</td>\n",
       "                        <td id=\"T_10eb7830_6c75_11eb_ab5e_d7196e09492erow0_col4\" class=\"data row0 col4\" >11</td>\n",
       "                        <td id=\"T_10eb7830_6c75_11eb_ab5e_d7196e09492erow0_col5\" class=\"data row0 col5\" >57.89%</td>\n",
       "            </tr>\n",
       "            <tr>\n",
       "                        <th id=\"T_10eb7830_6c75_11eb_ab5e_d7196e09492elevel0_row1\" class=\"row_heading level0 row1\" >1</th>\n",
       "                        <td id=\"T_10eb7830_6c75_11eb_ab5e_d7196e09492erow1_col0\" class=\"data row1 col0\" >2020</td>\n",
       "                        <td id=\"T_10eb7830_6c75_11eb_ab5e_d7196e09492erow1_col1\" class=\"data row1 col1\" >F</td>\n",
       "                        <td id=\"T_10eb7830_6c75_11eb_ab5e_d7196e09492erow1_col2\" class=\"data row1 col2\" >6</td>\n",
       "                        <td id=\"T_10eb7830_6c75_11eb_ab5e_d7196e09492erow1_col3\" class=\"data row1 col3\" >31.58%</td>\n",
       "                        <td id=\"T_10eb7830_6c75_11eb_ab5e_d7196e09492erow1_col4\" class=\"data row1 col4\" >17</td>\n",
       "                        <td id=\"T_10eb7830_6c75_11eb_ab5e_d7196e09492erow1_col5\" class=\"data row1 col5\" >89.47%</td>\n",
       "            </tr>\n",
       "            <tr>\n",
       "                        <th id=\"T_10eb7830_6c75_11eb_ab5e_d7196e09492elevel0_row2\" class=\"row_heading level0 row2\" >2</th>\n",
       "                        <td id=\"T_10eb7830_6c75_11eb_ab5e_d7196e09492erow2_col0\" class=\"data row2 col0\" >2020</td>\n",
       "                        <td id=\"T_10eb7830_6c75_11eb_ab5e_d7196e09492erow2_col1\" class=\"data row2 col1\" >Otre</td>\n",
       "                        <td id=\"T_10eb7830_6c75_11eb_ab5e_d7196e09492erow2_col2\" class=\"data row2 col2\" >1</td>\n",
       "                        <td id=\"T_10eb7830_6c75_11eb_ab5e_d7196e09492erow2_col3\" class=\"data row2 col3\" >5.26%</td>\n",
       "                        <td id=\"T_10eb7830_6c75_11eb_ab5e_d7196e09492erow2_col4\" class=\"data row2 col4\" >18</td>\n",
       "                        <td id=\"T_10eb7830_6c75_11eb_ab5e_d7196e09492erow2_col5\" class=\"data row2 col5\" >94.74%</td>\n",
       "            </tr>\n",
       "            <tr>\n",
       "                        <th id=\"T_10eb7830_6c75_11eb_ab5e_d7196e09492elevel0_row3\" class=\"row_heading level0 row3\" >3</th>\n",
       "                        <td id=\"T_10eb7830_6c75_11eb_ab5e_d7196e09492erow3_col0\" class=\"data row3 col0\" >2020</td>\n",
       "                        <td id=\"T_10eb7830_6c75_11eb_ab5e_d7196e09492erow3_col1\" class=\"data row3 col1\" >NB</td>\n",
       "                        <td id=\"T_10eb7830_6c75_11eb_ab5e_d7196e09492erow3_col2\" class=\"data row3 col2\" >1</td>\n",
       "                        <td id=\"T_10eb7830_6c75_11eb_ab5e_d7196e09492erow3_col3\" class=\"data row3 col3\" >5.26%</td>\n",
       "                        <td id=\"T_10eb7830_6c75_11eb_ab5e_d7196e09492erow3_col4\" class=\"data row3 col4\" >19</td>\n",
       "                        <td id=\"T_10eb7830_6c75_11eb_ab5e_d7196e09492erow3_col5\" class=\"data row3 col5\" >100.00%</td>\n",
       "            </tr>\n",
       "    </tbody></table>"
      ],
      "text/plain": [
       "<pandas.io.formats.style.Styler at 0x7f1c44a83340>"
      ]
     },
     "execution_count": 22,
     "metadata": {},
     "output_type": "execute_result"
    }
   ],
   "source": [
    "merge2[merge2[\"sign_up_year\"]==2020].stb.freq(['sign_up_year', 'gender'],  style=True)"
   ]
  }
 ],
 "metadata": {
  "kernelspec": {
   "display_name": "Python 3",
   "language": "python",
   "name": "python3"
  },
  "language_info": {
   "codemirror_mode": {
    "name": "ipython",
    "version": 3
   },
   "file_extension": ".py",
   "mimetype": "text/x-python",
   "name": "python",
   "nbconvert_exporter": "python",
   "pygments_lexer": "ipython3",
   "version": "3.8.5"
  }
 },
 "nbformat": 4,
 "nbformat_minor": 4
}
